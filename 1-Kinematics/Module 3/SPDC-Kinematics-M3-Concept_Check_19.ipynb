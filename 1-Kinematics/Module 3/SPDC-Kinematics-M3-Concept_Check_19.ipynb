{
 "cells": [
  {
   "cell_type": "markdown",
   "metadata": {},
   "source": [
    "# Coursera Spacecraft Dynamics and Control - Kinematics\n",
    "## Module 3\n",
    "## Concept Check 19 - MRP Addition and Subtraction"
   ]
  },
  {
   "cell_type": "code",
   "execution_count": 9,
   "metadata": {},
   "outputs": [],
   "source": [
    "import numpy as np\n",
    "import sys\n",
    "\n",
    "sys.path.append('../')\n",
    "\n",
    "import attitude_math as am"
   ]
  },
  {
   "cell_type": "markdown",
   "metadata": {},
   "source": [
    "### Question 2\n",
    "Add \n",
    "$\\sigma_{B/N} = (0.1, 0.2, 0.3)$ and $\\sigma_{R/B} = (-0.1, 0.3, 0.1)$ to find $\\sigma_{R/N}$. Provide the short rotation response.\n"
   ]
  },
  {
   "cell_type": "code",
   "execution_count": 10,
   "metadata": {},
   "outputs": [
    {
     "name": "stdout",
     "output_type": "stream",
     "text": [
      "[-0.16015898994622393, 0.4161795651157353, 0.5295768061725509]\n"
     ]
    }
   ],
   "source": [
    "MRP = am.MRP_add([0.1, 0.2, 0.3], [-0.1, 0.3, 0.1])\n",
    "MRP = am.MRP_short(MRP)\n",
    "print(MRP.tolist())"
   ]
  },
  {
   "cell_type": "markdown",
   "metadata": {},
   "source": [
    "### Question 3\n",
    "Given \n",
    "$\\sigma_{B/N} = (0.1, 0.2, 0.3)$ and $\\sigma_{R/N} = (0.5, 0.3, 0.1)$, find $\\sigma_{B/R}$. Provide the short rotation response.\n"
   ]
  },
  {
   "cell_type": "code",
   "execution_count": 11,
   "metadata": {},
   "outputs": [
    {
     "name": "stdout",
     "output_type": "stream",
     "text": [
      "[-0.3799849510910459, 0.11437170805116627, -0.023325808878856293]\n"
     ]
    }
   ],
   "source": [
    "MRP = am.MRP_diff([0.5,0.3,0.1],[0.1,0.2,0.3])\n",
    "MRP = am.MRP_short(MRP)\n",
    "print(MRP.tolist())"
   ]
  }
 ],
 "metadata": {
  "kernelspec": {
   "display_name": "Python 3",
   "language": "python",
   "name": "python3"
  },
  "language_info": {
   "codemirror_mode": {
    "name": "ipython",
    "version": 3
   },
   "file_extension": ".py",
   "mimetype": "text/x-python",
   "name": "python",
   "nbconvert_exporter": "python",
   "pygments_lexer": "ipython3",
   "version": "3.11.0"
  }
 },
 "nbformat": 4,
 "nbformat_minor": 2
}
