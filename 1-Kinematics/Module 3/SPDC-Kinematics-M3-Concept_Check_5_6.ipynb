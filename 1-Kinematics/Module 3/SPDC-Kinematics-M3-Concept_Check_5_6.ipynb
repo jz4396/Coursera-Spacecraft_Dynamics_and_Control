{
 "cells": [
  {
   "cell_type": "markdown",
   "metadata": {},
   "source": [
    "# Coursera Spacecraft Dynamics and Control - Kinematics\n",
    "## Module 3\n",
    "## Concept Check 5,6 - Euler Parameter Relationship to DCM"
   ]
  },
  {
   "cell_type": "code",
   "execution_count": 10,
   "metadata": {},
   "outputs": [],
   "source": [
    "import numpy as np\n",
    "import math\n",
    "import sys\n",
    "sys.path.append('../')\n",
    "\n",
    "import attitude_math as am"
   ]
  },
  {
   "cell_type": "markdown",
   "metadata": {},
   "source": [
    "### Problem 1\n",
    "Question 1\n",
    "Given $\\beta = (0.235702, 0.471405, -0.471405, 0.707107)$, what is the corresponding DCM?"
   ]
  },
  {
   "cell_type": "code",
   "execution_count": 11,
   "metadata": {},
   "outputs": [
    {
     "name": "stdout",
     "output_type": "stream",
     "text": [
      "[[-0.44444488 -0.11111228  0.88888975]\n",
      " [-0.77777842 -0.44444488 -0.44444535]\n",
      " [ 0.44444535 -0.88888975  0.11111039]]\n"
     ]
    },
    {
     "data": {
      "text/plain": [
       "1.0000032709125666"
      ]
     },
     "execution_count": 11,
     "metadata": {},
     "output_type": "execute_result"
    }
   ],
   "source": [
    "def result():\n",
    "    q = [0.235702,0.471405,-0.471405,0.707107]\n",
    "    dcm = am.quat_2_dcm(q)\n",
    "    return dcm\n",
    "\n",
    "r = np.array(result()).reshape(3,3)\n",
    "print(r)\n",
    "np.linalg.det(r)"
   ]
  },
  {
   "cell_type": "markdown",
   "metadata": {},
   "source": [
    "### Problem 3\n",
    "\n",
    "Write a program to map a DCM to the equivalent EP.  Choose the EP output set that describes a short rotation.  Using \n",
    "$$\\begin{bmatrix}\n",
    "B \\\\\n",
    "N\n",
    "\\end{bmatrix}\n",
    "=\n",
    "\\begin{bmatrix}\n",
    "-0.529403 & -0.467056 & 0.708231 \\\\\n",
    "-0.474115 & -0.529403 & -0.703525 \\\\\n",
    "0.703525 & -0.708231 & 0.0588291 \\\\\n",
    "\\end{bmatrix}\n",
    "\\```$$​\n",
    "  \n",
    "\n",
    "what is the corresponding EP set?"
   ]
  },
  {
   "cell_type": "code",
   "execution_count": 12,
   "metadata": {},
   "outputs": [
    {
     "name": "stdout",
     "output_type": "stream",
     "text": [
      "[0.002403122968142373, 0.4850698145628112, -0.4850698145628112, 0.7276048206272413]\n"
     ]
    },
    {
     "data": {
      "text/plain": [
       "1.0"
      ]
     },
     "execution_count": 12,
     "metadata": {},
     "output_type": "execute_result"
    }
   ],
   "source": [
    "\n",
    "# adjust the return matrix values as needed\n",
    "def result():\n",
    "    r = [[-0.529403, -0.467056,  0.708231],\n",
    "         [-0.474115, -0.529403, -0.703525],\n",
    "         [ 0.703525, -0.708231, 0.0588291]]\n",
    "    ep = am.dcm_2_quat(r)\n",
    "    return ep\n",
    "\n",
    "r = result()\n",
    "print(r)\n",
    "np.linalg.norm(r)"
   ]
  },
  {
   "cell_type": "markdown",
   "metadata": {},
   "source": [
    "### Problem 4\n",
    "\n",
    "Given the 3-2-1 Euler Angles set (20,10,-10) degrees, what is the equivalent EP set?"
   ]
  },
  {
   "cell_type": "code",
   "execution_count": 13,
   "metadata": {},
   "outputs": [
    {
     "name": "stdout",
     "output_type": "stream",
     "text": [
      "[0.9760079787005331, -0.10058188063494031, 0.07042819102789467, 0.17980984597450927]\n"
     ]
    },
    {
     "data": {
      "text/plain": [
       "1.0"
      ]
     },
     "execution_count": 13,
     "metadata": {},
     "output_type": "execute_result"
    }
   ],
   "source": [
    "# adjust the return matrix values as needed\n",
    "def result():\n",
    "    r=am.eulerAd([3,2,1],[20,10,-10])\n",
    "    eulerParameters=am.dcm_2_quat(r)\n",
    "    return eulerParameters\n",
    "    \n",
    "r = result()\n",
    "print(r)\n",
    "np.linalg.norm(r)\n"
   ]
  }
 ],
 "metadata": {
  "kernelspec": {
   "display_name": "Python 3",
   "language": "python",
   "name": "python3"
  },
  "language_info": {
   "codemirror_mode": {
    "name": "ipython",
    "version": 3
   },
   "file_extension": ".py",
   "mimetype": "text/x-python",
   "name": "python",
   "nbconvert_exporter": "python",
   "pygments_lexer": "ipython3",
   "version": "3.11.0"
  }
 },
 "nbformat": 4,
 "nbformat_minor": 2
}
