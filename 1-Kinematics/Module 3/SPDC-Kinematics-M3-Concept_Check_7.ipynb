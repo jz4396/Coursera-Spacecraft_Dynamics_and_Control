{
 "cells": [
  {
   "cell_type": "markdown",
   "metadata": {},
   "source": [
    "# Coursera Spacecraft Dynamics and Control - Kinematics\n",
    "## Module 3\n",
    "## Concept Check 7 - Euler Parameter Addition"
   ]
  },
  {
   "cell_type": "code",
   "execution_count": 1,
   "metadata": {},
   "outputs": [],
   "source": [
    "import numpy as np\n",
    "import math\n",
    "import sys\n",
    "sys.path.append('../')\n",
    "\n",
    "import attitude_math as am"
   ]
  },
  {
   "cell_type": "markdown",
   "metadata": {},
   "source": [
    "### Problem 1\n",
    "Given $\\beta_{B/N} = (0.774597, 0.258199, 0.516398, 0.258199)$ and $\\beta_{F/B} = (0.359211, 0.898027, 0.179605, 0.179605)$, what is $\\beta_{F/N}$? Provide the Euler parameter set that corresponds to the short rotation."
   ]
  },
  {
   "cell_type": "code",
   "execution_count": 12,
   "metadata": {},
   "outputs": [
    {
     "data": {
      "text/plain": [
       "[0.09274740459100003, -0.834730772503, -0.510113178141, 0.18549610017700008]"
      ]
     },
     "execution_count": 12,
     "metadata": {},
     "output_type": "execute_result"
    }
   ],
   "source": [
    "beta_BN = np.array([0.774597, 0.258199, 0.516398, 0.258199])\n",
    "beta_FB = np.array([0.359211, 0.898027, 0.179605, 0.179605])\n",
    "\n",
    "beta_FN = -1*am.quat_add(beta_BN, beta_FB)\n",
    "beta_FN.transpose().tolist()[0]"
   ]
  },
  {
   "cell_type": "markdown",
   "metadata": {},
   "source": [
    "### Problem 2\n",
    "Given $\\beta_{F/N}=(0.359211,0.898027,0.179605,0.179605)$ and $\\beta_{B/N}=(-0.377964,0.755929,0.377964,0.377964)$, what is $\\beta_{F/B}$? Provide the Euler parameter set that corresponds to the short rotation.\n"
   ]
  },
  {
   "cell_type": "code",
   "execution_count": 9,
   "metadata": {},
   "outputs": [
    {
     "data": {
      "text/plain": [
       "[0.6788442741189998,\n",
       " -0.610959889047,\n",
       " -0.40730629960700004,\n",
       " 1.9835900000320095e-07]"
      ]
     },
     "execution_count": 9,
     "metadata": {},
     "output_type": "execute_result"
    }
   ],
   "source": [
    "beta_FN = np.array([0.359211, 0.898027, 0.179605, 0.179605])\n",
    "beta_BN = np.array([-0.377964, 0.755929, 0.377964, 0.377964])\n",
    "beta_FB = am.quat_diff(beta_BN, beta_FN)\n",
    "beta_FB.transpose().tolist()"
   ]
  }
 ],
 "metadata": {
  "kernelspec": {
   "display_name": "Python 3",
   "language": "python",
   "name": "python3"
  },
  "language_info": {
   "codemirror_mode": {
    "name": "ipython",
    "version": 3
   },
   "file_extension": ".py",
   "mimetype": "text/x-python",
   "name": "python",
   "nbconvert_exporter": "python",
   "pygments_lexer": "ipython3",
   "version": "3.11.0"
  }
 },
 "nbformat": 4,
 "nbformat_minor": 2
}
