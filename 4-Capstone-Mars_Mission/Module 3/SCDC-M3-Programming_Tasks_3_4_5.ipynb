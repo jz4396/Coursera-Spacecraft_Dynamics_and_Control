{
 "cells": [
  {
   "cell_type": "markdown",
   "metadata": {},
   "source": [
    "# Coursera Spacecraft Dynamics and Control - Capstone Mars Misson\n",
    "## Module 3"
   ]
  },
  {
   "cell_type": "code",
   "execution_count": 1,
   "metadata": {},
   "outputs": [],
   "source": [
    "import numpy as np\n",
    "import sys\n",
    "sys.path.append(\"../\")\n",
    "sys.path.append(\"../..\")\n",
    "\n",
    "import Sat_Orbits as SO\n",
    "import attitude_math as am"
   ]
  },
  {
   "cell_type": "markdown",
   "metadata": {},
   "source": [
    "## Programming Assignment: Task 3: Sun-Pointing Reference Frame Orientation\n",
    "To point the spacecraft solar panels axis $b_3$ at the sun, the reference frame $R_s$ must be chosen such that $r_3$ axis points in the sun direction ($n_2$ in this scenario). Further, assume the first axis $r_1$ points in the $n_1$ direction. Your tasks are:\n",
    "\n",
    "1. Determine an analytic expression for the sun pointing reference frame $R_s$ by defining the direction cosine matrix $[R_sN]$.\n",
    "2. Write a function that returns $[R_sN]$.\n",
    "3. Validate the evaluation of $[R_sN]$ by providing the numerical values for $t = 0s$.\n",
    "4. What is the angular velocity $N$ of $R_sN$?\n",
    "\n",
    "Your tasks are:\n",
    "\n",
    "1. Determine an analytic expressions for the sun pointing reference frame \\(R_s\\) by defining the DCM \\([R_sN]\\).\n",
    "\n",
    "2. Write a function that returns \\([R_sN]\\).\n",
    "\n",
    "Then submit the following tasks for grading in Coursera:\n",
    "\n",
    "Part 1: Validate the evaluation of \\([R_sN]\\) by providing the numerical values for \\(t = 0\\)s. List these values in a plain text file with spaces between each number as \"a b c\".\n",
    "\n",
    "Tolerance +/- 0.001\n",
    "\n",
    "Part 2: What is the angular velocity \\(N\\omega_{Rs/N}\\)? List the values in your result in a plain text file with spaces between each number as \"a b c\".\n",
    "\n",
    "Tolerance +/- \\(10^{-7}\\)"
   ]
  },
  {
   "cell_type": "markdown",
   "metadata": {},
   "source": [
    "*Answer* \n",
    "\n",
    "Since the sun reference frame is fixed to the inertial frame for the purposes of this we will define a DCM to go from N to $R_s$ and then transpose. To do this we will first rotate about N1 90 degrees to get N2 to align to R3. The we will rotate 180 degrees about the new N2 (aka R3) vector to get -N1 to align with R1 since N1 is still in place but we want it to be -180 out of alignment. I will use my euler angle functions to get this matrix.\n",
    "\n",
    "It is also not rotating so the angular velocity is zero"
   ]
  },
  {
   "cell_type": "code",
   "execution_count": 2,
   "metadata": {},
   "outputs": [
    {
     "name": "stdout",
     "output_type": "stream",
     "text": [
      "R_RsN = [[-1.00000000e+00  1.22464680e-16 -7.49879891e-33]\n",
      " [ 0.00000000e+00  6.12323400e-17  1.00000000e+00]\n",
      " [ 1.22464680e-16  1.00000000e+00 -6.12323400e-17]]\n",
      "Test N2 rotation to R3: [0.000000e+00 6.123234e-17 1.000000e+00]\n",
      "Test N1 rotation to -R1: [-1.00000000e+00  1.22464680e-16 -7.49879891e-33]\n"
     ]
    }
   ],
   "source": [
    "R_RsN = am.eulerAd([1,2],[90,180])\n",
    "print(f\"R_RsN = {R_RsN}\")\n",
    "with open(\"SCDC-M3-T3-P1.txt\",\"w\") as f:\n",
    "    f.write(\" \".join(str(num) for num in R_RsN.reshape(9)))\n",
    "print(f\"Test N2 rotation to R3: {R_RsN.transpose()@[0,1,0]}\")\n",
    "print(f\"Test N1 rotation to -R1: {R_RsN.transpose()@[1,0,0]}\")\n",
    "\n",
    "omega_RsN = np.zeros(3)\n",
    "with open(\"SCDC-M3-T3-P2.txt\",\"w\") as f:\n",
    "    f.write(\" \".join(str(num) for num in omega_RsN))"
   ]
  },
  {
   "cell_type": "markdown",
   "metadata": {},
   "source": [
    "## Task 4: Nadir-Pointing Reference Frame Orientation\n",
    "\n",
    "To point the spacecraft sensor platform axis $b_1$ towards the center of Mars or nadir direction, the reference frame $R_n$ must be chosen such that $r_1$ axis points towards the planet. Further, assume the second axis $r_2$ points in the velocity direction. Your tasks are:\n",
    "\n",
    "1. Determine an analytic expression for the nadir pointing reference frame $R_n$ by defining the DCM $[R_nN]$.\n",
    "2. Write a function that returns $[R_nN]$ as a function of time.\n",
    "3. Write a function that determines the angular velocity vector $N_{R_nN}$.\n",
    "4. Validate the evaluation of $[R_nN]$ by providing the numerical values for $t = 330s$.\n",
    "5. What is the angular velocity $N_{R_nN}(330s)$?\n",
    "\n"
   ]
  },
  {
   "cell_type": "markdown",
   "metadata": {},
   "source": [
    "Your tasks are:\n",
    "- Determine an analytic expression for the nadir pointing reference frame $R_n$ by defining the DCM $[R_nN]$.\n",
    "\n",
    "- Write a function that returns $[R_nN]$ as a function of time.\n",
    "\n",
    "- Write a function that determines the angular velocity vector $N_{R_nN}$.\n",
    "\n",
    "Then submit the following tasks for grading in Coursera:\n",
    "\n",
    "Part 1: Validate the evaluation of $[R_nN]$ by providing the numerical values for $t = 330s$. List these values in a plain text file with spaces between each number as \"a b c\".\n",
    "\n",
    "Tolerance +/- 0.001\n",
    "\n",
    "Part 2: What is the angular velocity $N_{R_nN}(330s)$? List the values in your result in a plain text file with spaces between each number as \"a b c\".\n",
    "\n",
    "Tolerance +/- 0.001\n"
   ]
  },
  {
   "cell_type": "code",
   "execution_count": 6,
   "metadata": {},
   "outputs": [
    {
     "name": "stdout",
     "output_type": "stream",
     "text": [
      "R_RnH: [[-1.0000000e+00  0.0000000e+00 -1.2246468e-16]\n",
      " [ 0.0000000e+00  1.0000000e+00  0.0000000e+00]\n",
      " [ 1.2246468e-16  0.0000000e+00 -1.0000000e+00]]\n",
      "r_n1: [-1.0000000e+00  0.0000000e+00 -1.2246468e-16]\n",
      "r_n2: [0. 1. 0.]\n",
      "[ 0.00015131 -0.00041572  0.00076626]\n"
     ]
    }
   ],
   "source": [
    "# Nadir can be define in reference to Hill frame\n",
    "R_RnH = am.eulerAd([2],[180])\n",
    "print(f\"R_RnH: {R_RnH}\")\n",
    "\n",
    "r_n1 = R_RnH.transpose() @ [1,0,0]\n",
    "print(f\"r_n1: {r_n1}\")\n",
    "r_n2 = R_RnH.transpose() @ [0,1,0]\n",
    "print(f\"r_n2: {r_n2}\")\n",
    "\n",
    "t=330\n",
    "R_RnN = R_RnH@SO.LMO_sat.R_HN(t)\n",
    "with open(\"SCDC-M3-T4-P1.txt\",\"w\") as f:\n",
    "    f.write(\" \".join(str(num) for num in R_RnN.reshape(9)))\n",
    "\n",
    "# Since Nadir is locked to the hilbert frame their omegas in the \n",
    "# N frame are the same\n",
    "omega_RnN_N = SO.LMO_sat.R_HN(t).transpose() @ SO.LMO_sat.omega_H_h\n",
    "with open(\"SCDC-M3-T4-P2.txt\",\"w\") as f:\n",
    "    f.write(\" \".join(str(num) for num in omega_RnN_N))\n",
    "print(omega_RnN_N)"
   ]
  }
 ],
 "metadata": {
  "kernelspec": {
   "display_name": "Python 3",
   "language": "python",
   "name": "python3"
  },
  "language_info": {
   "codemirror_mode": {
    "name": "ipython",
    "version": 3
   },
   "file_extension": ".py",
   "mimetype": "text/x-python",
   "name": "python",
   "nbconvert_exporter": "python",
   "pygments_lexer": "ipython3",
   "version": "3.11.0"
  }
 },
 "nbformat": 4,
 "nbformat_minor": 2
}
