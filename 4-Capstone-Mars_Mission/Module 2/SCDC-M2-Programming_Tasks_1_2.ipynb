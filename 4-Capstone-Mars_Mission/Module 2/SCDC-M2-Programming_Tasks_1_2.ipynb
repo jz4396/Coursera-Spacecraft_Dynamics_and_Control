{
 "cells": [
  {
   "cell_type": "markdown",
   "metadata": {},
   "source": [
    "# Coursera Spacecraft Dynamics and Control - Capstone Mars Misson\n",
    "## Module 2"
   ]
  },
  {
   "cell_type": "code",
   "execution_count": 1,
   "metadata": {},
   "outputs": [],
   "source": [
    "import numpy as np\n",
    "import sys\n",
    "sys.path.append(\"../\")\n",
    "sys.path.append(\"../..\")\n",
    "\n",
    "import Sat_Orbits as SO\n",
    "import attitude_math as am"
   ]
  },
  {
   "cell_type": "markdown",
   "metadata": {},
   "source": [
    "## Programming Assignment: Task 1: Orbit Simulation"
   ]
  },
  {
   "cell_type": "markdown",
   "metadata": {},
   "source": [
    "Assume the general orbit frame O : r\n",
    " (4)\n",
    " h asillustrated in Figure 1. This allows the position vector\n",
    " on a circular orbit to be written as r = r r where r is here a constant radius. Your tasks are:\n",
    "Spacecraft Dynamics Capstone Project\n",
    " 6\n",
    " Derive the inertial spacecraft velocity vector r. Note that for a circular orbit is constant.\n",
    " Write a function whose inputs are the radius r and the (3-1-3) Euler angles ( i ) and the\n",
    " outputs are the inertial position vector Nr and velocity N r of the associated circular orbit.\n",
    " Confirm the operation of this program by entering the inertial position and velocity vector results\n",
    " for rLMO LMO iLMO LMO(450s) and rGMO GMO iGMO GMO(1150s"
   ]
  },
  {
   "cell_type": "code",
   "execution_count": 2,
   "metadata": {},
   "outputs": [],
   "source": [
    "orbit_euler_func = lambda orbit_is, t: orbit_is.EA_i + [0,0, orbit_is.theta_dot*t]\n",
    "R_HN = lambda orbit_is, t: am.eulerA([3,1,3], orbit_euler_func(orbit_is, t))\n",
    "\n",
    "def orbit_2_inertial_state(orbit_is, t): \n",
    "    R = R_HN(orbit_is,t).transpose()\n",
    "    #print(euler_a,R)\n",
    "    body_pos = np.array([orbit_is.r, 0, 0])\n",
    "    inertial_pos = R @ body_pos\n",
    "\n",
    "    body_vel = np.array([0, orbit_is.theta_dot*orbit_is.r, 0])\n",
    "    inertial_v = R @ body_vel\n",
    "    return np.array([[inertial_pos],[inertial_v]])\n",
    "\n"
   ]
  },
  {
   "cell_type": "markdown",
   "metadata": {},
   "source": [
    "### Part 1: submit a single line plain text file that lists the inertial position results for \n",
    "\n",
    "$(r_{LMO}, \\Omega_{LMO}, i_{LMO}, \\theta_{LMO}(450s))$ in the form \"a b c\"\n",
    "\n",
    "Tolerance: $\\pm$ 1.0\n",
    "\n",
    "Part 2: submit a single line plain text file that lists the velocity vector results for \n",
    "(\n",
    "r\n",
    "LMO\n",
    ",\n",
    "Ω\n",
    "LMO\n",
    ",\n",
    "i\n",
    "LMO\n",
    ",\n",
    "θ\n",
    "LMO\n",
    "(\n",
    "450\n",
    "s\n",
    ")\n",
    ")\n",
    "(r \n",
    "LMO\n",
    "​\n",
    " ,Ω \n",
    "LMO\n",
    "​\n",
    " ,i \n",
    "LMO\n",
    "​\n",
    " ,θ \n",
    "LMO\n",
    "​\n",
    " (450s)) in the form \"a b c\"\n",
    "\n",
    "Tolerance +/- 0.001\n"
   ]
  },
  {
   "cell_type": "code",
   "execution_count": 3,
   "metadata": {},
   "outputs": [
    {
     "name": "stdout",
     "output_type": "stream",
     "text": [
      "Position: [-669285.08993526 3227498.26591617 1883181.0661746 ]\tVelocity: [-3255.96450167  -797.7865407    210.11584572]\n",
      "Position: [-669.28508994 3227.49826592 1883.18106617]\tVelocity: [-3.2559645  -0.79778654  0.21011585]\n"
     ]
    }
   ],
   "source": [
    "#[pos, vel]= orbit_2_inertial_state(SO.LMO_sat,450)\n",
    "#print(f\"Position: {pos[0]}\\tVelocity: {vel[0]}\")\n",
    "[pos, vel]= SO.LMO_sat.orbit_2_inertial_state(450)\n",
    "pos = pos/1e3\n",
    "vel = vel/1e3\n",
    "print(f\"Position: {pos[0]}\\tVelocity: {vel[0]}\")\n",
    "with open(\"SCDC-M2-T1-P1.txt\",\"w\") as f:\n",
    "    f.write(f\"{pos[0][0]} {pos[0][1]} {pos[0][2]}\")\n",
    "with open(\"SCDC-M2-T1-P2.txt\",\"w\") as f:\n",
    "    f.write(f\"{vel[0][0]} {vel[0][1]} {vel[0][2]}\")"
   ]
  },
  {
   "cell_type": "markdown",
   "metadata": {},
   "source": [
    "Part 3: submit a single line plain text file that lists the inertial position results for \n",
    "(\n",
    "r\n",
    "GMO\n",
    ",\n",
    "Ω\n",
    "GMO\n",
    ",\n",
    "i\n",
    "GMO\n",
    ",\n",
    "θ\n",
    "GMO\n",
    "(\n",
    "1150\n",
    "s\n",
    ")\n",
    ")\n",
    "(r \n",
    "GMO\n",
    "​\n",
    " ,Ω \n",
    "GMO\n",
    "​\n",
    " ,i \n",
    "GMO\n",
    "​\n",
    " ,θ \n",
    "GMO\n",
    "​\n",
    " (1150s)) in the form \"a b c\"\n",
    "\n",
    "Tolerance: +/- 1.0\n",
    "\n",
    "Part 4:  submit a single line plain text file that lists the velocity vector results for \n",
    "(\n",
    "r\n",
    "GMO\n",
    ",\n",
    "Ω\n",
    "GMO\n",
    ",\n",
    "i\n",
    "GMO\n",
    ",\n",
    "θ\n",
    "GMO\n",
    "(\n",
    "1150\n",
    "s\n",
    ")\n",
    ")\n",
    "(r \n",
    "GMO\n",
    "​\n",
    " ,Ω \n",
    "GMO\n",
    "​\n",
    " ,i \n",
    "GMO\n",
    "​\n",
    " ,θ \n",
    "GMO\n",
    "​\n",
    " (1150s)) in the form \"a b c\"\n",
    "\n",
    "Tolerance +/- 0.001"
   ]
  },
  {
   "cell_type": "code",
   "execution_count": 8,
   "metadata": {},
   "outputs": [
    {
     "name": "stdout",
     "output_type": "stream",
     "text": [
      "Position: [ -5399.15037424 -19697.64252078      0.        ]\tVelocity: [ 1.396568   -0.38280117  0.        ]\n"
     ]
    }
   ],
   "source": [
    "t = 1150\n",
    "#print(t)\n",
    "[pos, vel]= SO.GMO_sat.orbit_2_inertial_state(t)\n",
    "pos = pos/1e3\n",
    "vel = vel/1e3\n",
    "print(f\"Position: {pos[0]}\\tVelocity: {vel[0]}\")\n",
    "with open(\"SCDC-M2-T1-P3.txt\",\"w\") as f:\n",
    "    f.write(f\"{pos[0][0]} {pos[0][1]} {pos[0][2]}\")\n",
    "with open(\"SCDC-M2-T1-P4.txt\",\"w\") as f:\n",
    "    f.write(f\"{vel[0][0]} {vel[0][1]} {vel[0][2]}\")"
   ]
  },
  {
   "cell_type": "markdown",
   "metadata": {},
   "source": [
    "## Programming Assignment: Task 2 - Orbit Frame Orientation\n",
    "\n",
    "Your tasks are:\n",
    "1. Determine an analytic expression for $\\mathbf{H}_N$\n",
    "\n",
    "2. Write a function whose input is simply time $t$, and the output is the direction cosine matrix (DCM) $\\mathbf{H}_N(t)$\n",
    "\n",
    "3. Validate the operation of this function by computing $\\mathbf{H}_N(t=300s)$\n",
    "\n",
    "You will submit the results for step 3 by submitting a single line plain text file listing the numbers in the matrix that results from computing $\\mathbf{H}_N(t=300s)$.\n",
    "\n",
    "List the matrix values in the order of rows from left to right, beginning with the top row and ending with the bottom row. So for any 2 by 2 matrix, the list should be ordered as follows: $a_{1,1} \\ a_{1,2} \\ a_{2,1} \\ a_{2,2}$. Make sure to separate each number by a white space.\n",
    "\n",
    "Tolerance: $\\pm$ 0.001\n"
   ]
  },
  {
   "cell_type": "code",
   "execution_count": 13,
   "metadata": {},
   "outputs": [
    {
     "name": "stdout",
     "output_type": "stream",
     "text": [
      "R_HN = [[-0.0464774   0.87414792  0.48343072]\n",
      " [-0.98417245 -0.12292213  0.12765086]\n",
      " [ 0.17101007 -0.46984631  0.8660254 ]]\n"
     ]
    }
   ],
   "source": [
    "#R = R_HN(SO.LMO_sat,300)\n",
    "R = SO.LMO_sat.R_HN(300)\n",
    "print(f\"R_HN = {R}\")\n",
    "#print(R.reshape(9).tolist())\n",
    "with open(\"SCDC-M2-T2.txt\",\"w\") as f:\n",
    "    f.write(\" \".join(str(num) for num in R.reshape(9).tolist()))"
   ]
  }
 ],
 "metadata": {
  "kernelspec": {
   "display_name": "Python 3",
   "language": "python",
   "name": "python3"
  },
  "language_info": {
   "codemirror_mode": {
    "name": "ipython",
    "version": 3
   },
   "file_extension": ".py",
   "mimetype": "text/x-python",
   "name": "python",
   "nbconvert_exporter": "python",
   "pygments_lexer": "ipython3",
   "version": "3.11.0"
  }
 },
 "nbformat": 4,
 "nbformat_minor": 2
}
