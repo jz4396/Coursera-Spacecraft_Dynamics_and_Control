{
 "cells": [
  {
   "cell_type": "markdown",
   "metadata": {},
   "source": [
    "# Coursera Spacecraft Dynamics and Control - Capstone Mars Misson\n",
    "## Module 4"
   ]
  },
  {
   "cell_type": "code",
   "execution_count": 1,
   "metadata": {},
   "outputs": [],
   "source": [
    "import numpy as np\n",
    "import sys\n",
    "sys.path.append(\"../\")\n",
    "sys.path.append(\"../..\")\n",
    "\n",
    "import Sat_Orbits as SO\n",
    "import attitude_math as am"
   ]
  },
  {
   "cell_type": "markdown",
   "metadata": {},
   "source": [
    "## Programming Assignment: Task 6: Attitude Error Evaluation (10 points)\n",
    "Any attitude feedback control algorithm requires the ability to compute the attitude and angular velocity tracking errors of the current body frame B relative to the reference frame R. Your tasks are:\n",
    "\n",
    "1. Write a function that takes the inputs of time, the current body attitude states $B_N$ and $B_{\\dot{N}}$, as well as the current reference frame orientation $[R_N]$ and rates $N_{R_N}$, and returns the associated tracking errors $B_R$ and $B_{\\dot{R}}$.\n",
    "\n",
    "2. Validate this function by computing $B_R$ and $B_{\\dot{R}}$ at the initial time $t_0$ for the sun-pointing, nadir-pointing, and GMO reference orientations. Compute the LMO tracking errors at $t_0$ using the initial conditions given in section 3.1 for the three reference frames.\n"
   ]
  },
  {
   "cell_type": "markdown",
   "metadata": {},
   "source": [
    "Your task is to:\n",
    "Write a function that takes the following inputs:\n",
    "- Time\n",
    "- Current body attitude states $\\sigma_{B/N}$ and $\\omega_{B/N}$\n",
    "- Current reference frame orientation $[RN]$ and rates $\\omega_{R/N}$\n",
    "\n",
    "The function should return the associated tracking errors $\\sigma_{B/R}$ and $\\omega_{B/R}$.\n",
    "\n",
    "To validate this function, submit the following parts for grading in Coursera:\n",
    "\n",
    "### Part 1:\n",
    "Compute $\\sigma_{B/R}$ at the initial time $t_0$ for the sun-pointing reference orientation.\n",
    "\n",
    "Tolerance: $\\pm$ 0.001\n",
    "\n",
    "### Part 2:\n",
    "Compute $\\omega_{B/R}$ at the initial time $t_0$ for the sun-pointing reference orientation.\n",
    "\n",
    "Tolerance: $\\pm$ 0.0001"
   ]
  },
  {
   "cell_type": "code",
   "execution_count": 2,
   "metadata": {},
   "outputs": [
    {
     "name": "stdout",
     "output_type": "stream",
     "text": [
      "Sigma_BR: [-0.77542077 -0.47386825  0.04307893]\n",
      "Omega_BR_B: [ 0.01745329  0.03054326 -0.03839724]\n"
     ]
    }
   ],
   "source": [
    "[sigma_BR, omega_BR_B] = SO.LMO_sat.reference_error_state(SO.R_RsN,SO.omega_RsN)\n",
    "print(f\"Sigma_BR: {sigma_BR}\\nOmega_BR_B: {omega_BR_B}\")\n",
    "with open(\"SCDC-M3-T6-P1.txt\",\"w\") as f:\n",
    "    f.write(\" \".join(str(num) for num in sigma_BR))\n",
    "with open(\"SCDC-M3-T6-P2.txt\",\"w\") as f:\n",
    "    f.write(\" \".join(str(num) for num in omega_BR_B))"
   ]
  },
  {
   "cell_type": "markdown",
   "metadata": {},
   "source": [
    "### Part 3:\n",
    "Compute $\\sigma_{B/R}$ at the initial time $t_0$ for the nadir-pointing reference orientation.\n",
    "\n",
    "Tolerance: $\\pm$ 0.001\n",
    "\n",
    "### Part 4:\n",
    "Compute $\\omega_{B/R}$ at the initial time $t_0$ for the nadir-pointing reference orientation.\n",
    "\n",
    "Tolerance: $\\pm$ 0.0001"
   ]
  },
  {
   "cell_type": "code",
   "execution_count": 3,
   "metadata": {},
   "outputs": [
    {
     "name": "stdout",
     "output_type": "stream",
     "text": [
      "Sigma_BR: [0.26226523 0.55470457 0.03942405]\n",
      "Omega_BR_B: [ 0.01684883  0.03092879 -0.03891576]\n"
     ]
    }
   ],
   "source": [
    "[sigma_BR, omega_BR_B] = SO.LMO_sat.reference_error_state(\n",
    "    SO.LMO_sat.R_RnN(0),\n",
    "    SO.LMO_sat.omega_RnN_N(0)\n",
    "    )\n",
    "print(f\"Sigma_BR: {sigma_BR}\\nOmega_BR_B: {omega_BR_B}\")\n",
    "with open(\"SCDC-M3-T6-P3.txt\",\"w\") as f:\n",
    "    f.write(\" \".join(str(num) for num in sigma_BR))\n",
    "with open(\"SCDC-M3-T6-P4.txt\",\"w\") as f:\n",
    "    f.write(\" \".join(str(num) for num in omega_BR_B))"
   ]
  },
  {
   "cell_type": "markdown",
   "metadata": {},
   "source": [
    "*Part 5:* Compute $\\sigma_{B/R}$ at the initial time $t_0$ for the GMO-pointing reference orientation.\n",
    "    - Tolerance: $\\pm$ 0.001\n",
    "\n",
    "*Part 6:* Compute $\\omega_{B/R}$ at the initial time $t_0$ for the GMO-pointing reference orientation.\n",
    "    - Tolerance: $\\pm$ 0.0001"
   ]
  },
  {
   "cell_type": "code",
   "execution_count": 4,
   "metadata": {},
   "outputs": [
    {
     "name": "stdout",
     "output_type": "stream",
     "text": [
      "Sigma_BR: [ 0.01697198 -0.38280275  0.2076131 ]\n",
      "Omega_BR_B: [ 0.01729709  0.03065744 -0.03843687]\n"
     ]
    }
   ],
   "source": [
    "R_RcN = SO.Get_Comm_Frame_DCM(0)\n",
    "omega_RcN_N = SO.Get_Comm_Frame_Inertial_Rate(0,.01)\n",
    "[sigma_BR, omega_BR_B] = SO.LMO_sat.reference_error_state(\n",
    "    R_RcN,\n",
    "    omega_RcN_N\n",
    "    )\n",
    "\n",
    "print(f\"Sigma_BR: {sigma_BR}\\nOmega_BR_B: {omega_BR_B}\")\n",
    "with open(\"SCDC-M3-T6-P5.txt\",\"w\") as f:\n",
    "    f.write(\" \".join(str(num) for num in sigma_BR))\n",
    "with open(\"SCDC-M3-T6-P6.txt\",\"w\") as f:\n",
    "    f.write(\" \".join(str(num) for num in omega_BR_B))"
   ]
  },
  {
   "cell_type": "markdown",
   "metadata": {},
   "source": [
    "## Programming Assignment: Task 7: Numerical Attitude Simulator (10 points)\n",
    "\n",
    "In order to integrate the attitude, you need a numerical integrator. The LMO and GMO orbit satellite positions are given already as a function of time from your earlier tasks. Let the propagated attitude state $X$ be\n",
    "\n",
    "$ X = \\begin{bmatrix} \\sigma_{B/N} \\\\ ^B\\omega_{B/N} \\end{bmatrix} $\n",
    "\n",
    "Assume that the spacecraft is rigid and its dynamics obey\n",
    "\n",
    "$[I] \\dot{\\omega}_{B/N} = -[\\tilde{\\omega}_{B/N}][I] \\omega_{B/N} +u$\n",
    "\n",
    "where $u$ is your external control torque vector.\n",
    "\n",
    "Write an RK4 integrator using your programming language of choice (i.e., do not use a built-in integrator such as Matlab’s ode45). Make sure your time step is chosen small enough such that numerical integrator errors are not visible in your simulation result plots. With RK4, it is okay to use a fixed integration time step of 1 second. Furthermore, hold the control $u$ vector piece-wise constant over the RK4 integration to the next time step. You can update the control $u$ at every time step in advance of the RK4 integration step.\n",
    "\n",
    "Demonstrate that your integrator works properly by integrating $X$ forward for 500 seconds with $u = 0$. Provide $H = [I]_{BN}$ at 500 seconds and express the $H$ vector in the B frame.\n",
    "\n",
    "Provide the rotational kinetic energy $T = \\frac{1}{2} \\text{Tr}(\\mathbf{I}_{BN}[\\mathbf{I}_{BN}]^T)$ at 500 seconds.\n",
    "\n",
    "Provide the MRP attitude $\\sigma_{BN}(500s)$.\n",
    "\n",
    "Provide the angular momentum vector $\\mathbf{NH}(500s)$ in inertial frame components."
   ]
  },
  {
   "cell_type": "markdown",
   "metadata": {},
   "source": [
    "Your task is to:\n",
    "Write an RK4 integrator using your programming language of choice (i.e., do not use a built-in integrator such as Matlab's ode45). Make sure your time step is chosen small enough such that numerical integrator errors are not visible in your simulation result plots. With RK4, it is okay to use a fixed integration time step of 1 second.\n",
    "\n",
    "Then submit the following for grading in Coursera:\n",
    "\n",
    "### Part 1:\n",
    "Demonstrate that your integrator works properly by integrating $X$ forward for 500 seconds with $u = 0$. Provide $H = [I]\\omega_{B/N}$ at 500s and express the $H$ vector in the $B$ frame.\n",
    "\n",
    "Tolerance: $\\pm 0.001$\n",
    "\n",
    "### Part 2:\n",
    "Provide the rotational kinetic energy $T = \\frac{1}{2}\\omega_{B/N}[I]\\omega_{B/N}$ at 500 seconds.\n",
    "\n",
    "Tolerance: $\\pm 0.00001$\n",
    "\n",
    "### Part 3:\n",
    "Provide the MRP attitude $\\sigma_{B/N}(500s)$.\n",
    "\n",
    "Tolerance: $\\pm 0.001$\n",
    "\n",
    "### Part 4:\n",
    "Provide the angular momentum vector $N H(500s)$ in inertial frame components.\n",
    "\n",
    "Tolerance: $\\pm 0.001$\n"
   ]
  },
  {
   "cell_type": "code",
   "execution_count": 10,
   "metadata": {},
   "outputs": [
    {
     "name": "stdout",
     "output_type": "stream",
     "text": [
      "H(0 s) = [ 0.17453293  0.15271631 -0.28797933]\n",
      "         t    sigma1    sigma2    sigma3    omega1    omega2    omega3\n",
      "0      0.0  0.300000 -0.400000  0.500000  0.017453  0.030543 -0.038397\n",
      "1      1.0  0.298197 -0.380953  0.496737  0.017747  0.030880 -0.038037\n",
      "2      2.0  0.296197 -0.362159  0.493495  0.018041  0.031218 -0.037667\n",
      "3      3.0  0.294012 -0.343608  0.490278  0.018335  0.031559 -0.037286\n",
      "4      4.0  0.291650 -0.325290  0.487090  0.018629  0.031902 -0.036895\n",
      "..     ...       ...       ...       ...       ...       ...       ...\n",
      "496  496.0  0.168521  0.511934  0.003960  0.012683  0.025404 -0.043101\n",
      "497  497.0  0.160915  0.523949 -0.004833  0.012957  0.025679 -0.042883\n",
      "498  498.0  0.153242  0.536006 -0.013775  0.013233  0.025959 -0.042658\n",
      "499  499.0  0.145500  0.548109 -0.022874  0.013511  0.026244 -0.042425\n",
      "500  500.0  0.137688  0.560260 -0.032140  0.013790  0.026533 -0.042185\n",
      "\n",
      "[501 rows x 7 columns]\n",
      "[[ 0.13768824  0.56025986 -0.03214017]\n",
      " [ 0.01378989  0.02653258 -0.04218486]]\n"
     ]
    }
   ],
   "source": [
    "SO.LMO_sat.reset_X()\n",
    "omega_0 = SO.LMO_sat.X()[1].transpose()\n",
    "H=SO.LMO_sat.MOI@omega_0\n",
    "print(f\"H(0 s) = {H}\")\n",
    "\n",
    "t_step=1\n",
    "print(SO.orbital_att_RK4int(SO.LMO_sat,\n",
    "                      lambda x,t: np.zeros(3),\n",
    "                      np.zeros(3),\n",
    "                      SO.LMO_sat.X(),\n",
    "                      np.arange(0,500+t_step,t_step)))\n",
    "print(SO.LMO_sat.X())"
   ]
  },
  {
   "cell_type": "code",
   "execution_count": 9,
   "metadata": {},
   "outputs": [
    {
     "name": "stdout",
     "output_type": "stream",
     "text": [
      "H(500 s) = [ 0.13789888  0.13266289 -0.31638647]\n",
      "T(500 s) = 0.009384109200081292\n",
      "Sigma_BN(500 s) = [ 0.13768824  0.56025986 -0.03214017]\n",
      "H_N(500 s) = [-0.26412081  0.25278388  0.05528519]\n"
     ]
    }
   ],
   "source": [
    "X_500 = SO.LMO_sat.X().transpose()\n",
    "omega_500 = X_500[:,1]\n",
    "H=SO.LMO_sat.MOI@omega_500\n",
    "print(f\"H(500 s) = {H}\")\n",
    "with open(\"SCDC-M3-T7-P1.txt\",\"w\") as f:\n",
    "    f.write(\" \".join(str(num) for num in H.flatten()))\n",
    "\n",
    "T = 1/2*omega_500.transpose()@SO.LMO_sat.MOI@omega_500\n",
    "print(f\"T(500 s) = {T}\")\n",
    "with open(\"SCDC-M3-T7-P2.txt\",\"w\") as f:\n",
    "    f.write(\" \".join(str(num) for num in T.flatten()))\n",
    "\n",
    "sigma_BN = X_500[:,0]\n",
    "print(f\"Sigma_BN(500 s) = {sigma_BN}\")\n",
    "with open(\"SCDC-M3-T7-P3.txt\",\"w\") as f:\n",
    "    f.write(\" \".join(str(num) for num in sigma_BN.flatten()))\n",
    "\n",
    "R = am.MRP_2_DCM(sigma_BN)\n",
    "H_N = R.transpose()@H\n",
    "print(f\"H_N(500 s) = {H_N}\")\n",
    "with open(\"SCDC-M3-T7-P4.txt\",\"w\") as f:\n",
    "    f.write(\" \".join(str(num) for num in H_N.flatten()))"
   ]
  },
  {
   "cell_type": "markdown",
   "metadata": {},
   "source": [
    "### Part 5:\n",
    "If you apply a fixed control torque $B u = (0.01, -0.01, 0.02)$ Nm, provide the attitude $\\sigma_{B/N}(t=100s)$.\n",
    "\n",
    "Tolerance: $\\pm 0.001$"
   ]
  },
  {
   "cell_type": "code",
   "execution_count": 14,
   "metadata": {},
   "outputs": [
    {
     "name": "stdout",
     "output_type": "stream",
     "text": [
      "H(0 s) = [ 0.17453293  0.15271631 -0.28797933]\n",
      "         t    sigma1    sigma2    sigma3    omega1    omega2    omega3\n",
      "0      0.0  0.300000 -0.400000  0.500000  0.017453  0.030543 -0.038397\n",
      "1      1.0  0.298427 -0.381387  0.497154  0.018727  0.028877 -0.035372\n",
      "2      2.0  0.297128 -0.363853  0.495148  0.019965  0.027204 -0.032344\n",
      "3      3.0  0.296128 -0.347336  0.493965  0.021168  0.025521 -0.029316\n",
      "4      4.0  0.295452 -0.331779  0.493591  0.022340  0.023824 -0.026291\n",
      "..     ...       ...       ...       ...       ...       ...       ...\n",
      "96    96.0 -0.432806 -0.537747  0.199585  0.047719 -0.078020 -0.128058\n",
      "97    97.0 -0.383187 -0.567663  0.212600  0.046240 -0.077015 -0.127819\n",
      "98    98.0 -0.332234 -0.594930  0.224065  0.044796 -0.076110 -0.127475\n",
      "99    99.0 -0.280068 -0.619542  0.234016  0.043388 -0.075304 -0.127033\n",
      "100  100.0 -0.226804 -0.641496  0.242486  0.042013 -0.074598 -0.126500\n",
      "\n",
      "[101 rows x 7 columns]\n",
      "[[-0.22680373 -0.6414962   0.24248596]\n",
      " [ 0.04201288 -0.07459788 -0.12649977]]\n"
     ]
    }
   ],
   "source": [
    "SO.LMO_sat.reset_X()\n",
    "omega_0 = SO.LMO_sat.X()[1].transpose()\n",
    "H=SO.LMO_sat.MOI@omega_0\n",
    "print(f\"H(0 s) = {H}\")\n",
    "\n",
    "t_step = 1\n",
    "t_f = 100\n",
    "u_constant = [0.01, -0.01, 0.02]\n",
    "print(SO.orbital_att_RK4int(sat_obj = SO.LMO_sat,\n",
    "                      u = lambda x,t: u_constant,\n",
    "                      L = np.zeros(3),\n",
    "                      X0 = SO.LMO_sat.X(),\n",
    "                      ts = np.arange(0,t_f+t_step,t_step)))\n",
    "print(SO.LMO_sat.X())"
   ]
  },
  {
   "cell_type": "code",
   "execution_count": 15,
   "metadata": {},
   "outputs": [
    {
     "name": "stdout",
     "output_type": "stream",
     "text": [
      "Sigma_BN(100 s) = [-0.22680373 -0.6414962   0.24248596]\n"
     ]
    }
   ],
   "source": [
    "X_100 = SO.LMO_sat.X().transpose()\n",
    "\n",
    "sigma_BN = X_100[:,0]\n",
    "print(f\"Sigma_BN(100 s) = {sigma_BN}\")\n",
    "with open(\"SCDC-M3-T7-P5.txt\",\"w\") as f:\n",
    "    f.write(\" \".join(str(num) for num in sigma_BN.flatten()))\n"
   ]
  }
 ],
 "metadata": {
  "kernelspec": {
   "display_name": "Python 3",
   "language": "python",
   "name": "python3"
  },
  "language_info": {
   "codemirror_mode": {
    "name": "ipython",
    "version": 3
   },
   "file_extension": ".py",
   "mimetype": "text/x-python",
   "name": "python",
   "nbconvert_exporter": "python",
   "pygments_lexer": "ipython3",
   "version": "3.11.0"
  }
 },
 "nbformat": 4,
 "nbformat_minor": 2
}
