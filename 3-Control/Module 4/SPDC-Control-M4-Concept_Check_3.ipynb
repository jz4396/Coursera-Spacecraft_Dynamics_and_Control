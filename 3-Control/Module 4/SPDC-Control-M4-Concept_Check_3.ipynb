{
 "cells": [
  {
   "cell_type": "markdown",
   "metadata": {},
   "source": [
    "# Coursera Spacecraft Dynamics and Control - Kinematics\n",
    "## Module 4\n",
    "## Concept Check 3 - RW Feedback Control"
   ]
  },
  {
   "cell_type": "code",
   "execution_count": 2,
   "metadata": {},
   "outputs": [],
   "source": [
    "import numpy as np\n",
    "from plotly import graph_objects as pgo\n",
    "from plotly import express as px\n",
    "import scipy\n",
    "import pandas as pd\n",
    "import sys\n",
    "\n",
    "sys.path.append('../../')\n",
    "\n",
    "import attitude_math as am"
   ]
  },
  {
   "cell_type": "markdown",
   "metadata": {},
   "source": [
    "### Question 3\n",
    "Given the vector components with respect to the body frame:\n",
    "\n",
    "$$\n",
    "\\begin{align*}\n",
    "g^s_1 &= (0.267261, 0.534522, 0.801784) \\\\\n",
    "g^s_2 &= (-0.267261, 0.534522, 0.801784) \\\\\n",
    "g^s_3 &= (0.534522, 0.267261, 0.801784) \\\\\n",
    "g^s_4 &= (-0.666667, 0.666667, 0.333333)\n",
    "\\end{align*}\n",
    "$$\n",
    "\n",
    "If the control solutions require $L_r = (0.1, 0.2, 0.4)$ Nm, what is the smallest set of motor torques $u_{si}$ that produces this control torque?"
   ]
  },
  {
   "cell_type": "code",
   "execution_count": 6,
   "metadata": {},
   "outputs": [
    {
     "name": "stdout",
     "output_type": "stream",
     "text": [
      "[0.11048297033971331, 0.2077050376012061, 0.19444809448164532, -0.033070307304630155]\n"
     ]
    }
   ],
   "source": [
    "Gs = np.array([\n",
    "    [0.267261, 0.534522, 0.801784],\n",
    "    [-0.267261, 0.534522, 0.801784],\n",
    "    [0.534522, 0.267261, 0.801784],\n",
    "    [-0.666667, 0.666667, 0.333333]\n",
    "]).transpose()\n",
    "\n",
    "Lr = np.array([0.1, 0.2, 0.4])\n",
    "us = Gs.transpose()@np.linalg.inv(np.inner(Gs,Gs))@Lr\n",
    "print(us.tolist())"
   ]
  }
 ],
 "metadata": {
  "kernelspec": {
   "display_name": "Python 3",
   "language": "python",
   "name": "python3"
  },
  "language_info": {
   "codemirror_mode": {
    "name": "ipython",
    "version": 3
   },
   "file_extension": ".py",
   "mimetype": "text/x-python",
   "name": "python",
   "nbconvert_exporter": "python",
   "pygments_lexer": "ipython3",
   "version": "3.11.0"
  }
 },
 "nbformat": 4,
 "nbformat_minor": 2
}
