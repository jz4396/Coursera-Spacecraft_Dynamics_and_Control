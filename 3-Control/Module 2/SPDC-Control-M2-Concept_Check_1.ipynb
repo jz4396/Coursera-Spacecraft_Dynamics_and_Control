{
 "cells": [
  {
   "cell_type": "markdown",
   "metadata": {},
   "source": [
    "# Coursera Spacecraft Dynamics and Control - Control of Nonlinear Spacecraft Attitude Motion\n",
    "## Module 2\n",
    "## Concept Check 1 - Definite Function"
   ]
  },
  {
   "cell_type": "code",
   "execution_count": 3,
   "metadata": {},
   "outputs": [],
   "source": [
    "import numpy as np\n",
    "import sys\n",
    "sys.path.append('../../')\n",
    "\n",
    "import attitude_math as am"
   ]
  },
  {
   "cell_type": "markdown",
   "metadata": {},
   "source": [
    "### Question 6\n",
    "What is the definiteness of the matrix?\n",
    "$$[K] = \\begin{bmatrix}\n",
    "1.53947 & -0.0422688 & -0.190629 \\\\\n",
    "-0.0422688 & 1.4759 & 0.459006 \\\\\n",
    "-0.190629 & 0.459006 & 1.48463 \\\\\n",
    "\\end{bmatrix}$$"
   ]
  },
  {
   "cell_type": "code",
   "execution_count": 4,
   "metadata": {},
   "outputs": [
    {
     "data": {
      "text/plain": [
       "array([1.99999822, 1.50000363, 0.99999815])"
      ]
     },
     "execution_count": 4,
     "metadata": {},
     "output_type": "execute_result"
    }
   ],
   "source": [
    "K = np.array([\n",
    "    [1.53947, -0.0422688, -0.190629],\n",
    "    [-0.0422688, 1.4759, 0.459006],\n",
    "    [-0.190629, 0.459006, 1.48463],\n",
    "    ]).transpose()\n",
    "np.linalg.eig(K)[0]"
   ]
  },
  {
   "cell_type": "markdown",
   "metadata": {},
   "source": [
    "### Question 7\n",
    "What is the definiteness of the matrix\n",
    "\n",
    "$$\n",
    "[K] = \\begin{bmatrix}\n",
    "-0.984331 & -1.10006 & -0.478579 \\\\\n",
    "-1.10006 & 1.03255 & 0.338318 \\\\\n",
    "-0.478579 & 0.338318 & 1.45178 \\\\\n",
    "\\end{bmatrix}\n",
    "$$"
   ]
  },
  {
   "cell_type": "code",
   "execution_count": 5,
   "metadata": {},
   "outputs": [
    {
     "data": {
      "text/plain": [
       "array([-1.49999901,  1.99999849,  0.99999952])"
      ]
     },
     "execution_count": 5,
     "metadata": {},
     "output_type": "execute_result"
    }
   ],
   "source": [
    "K = np.array([\n",
    "    [-0.984331, -1.10006, -0.478579],\n",
    "    [-1.10006, 1.03255, 0.338318],\n",
    "    [-0.478579, 0.338318, 1.45178],\n",
    "    ])\n",
    "\n",
    "np.linalg.eig(K)[0]"
   ]
  },
  {
   "cell_type": "markdown",
   "metadata": {},
   "source": [
    "### Question 8\n",
    "What is the definiteness of the matrix\n",
    "\n",
    "$$\n",
    "[K] = \\begin{bmatrix}\n",
    "-2.0353 & 0.296916 & -0.365128 \\\\\n",
    "0.296916 & -1.10369 & -0.074481 \\\\\n",
    "-0.365128 & -0.074481 & -2.86101 \\\\\n",
    "\\end{bmatrix}\n",
    "$$\n"
   ]
  },
  {
   "cell_type": "code",
   "execution_count": 6,
   "metadata": {},
   "outputs": [
    {
     "data": {
      "text/plain": [
       "array([-3.00000223, -1.99999849, -0.99999928])"
      ]
     },
     "execution_count": 6,
     "metadata": {},
     "output_type": "execute_result"
    }
   ],
   "source": [
    "K = np.array([[-2.0353, 0.296916, -0.365128],\n",
    "              [0.296916, -1.10369, -0.074481],\n",
    "              [-0.365128, -0.074481, -2.86101]])\n",
    "\n",
    "np.linalg.eig(K)[0]"
   ]
  }
 ],
 "metadata": {
  "kernelspec": {
   "display_name": "Python 3",
   "language": "python",
   "name": "python3"
  },
  "language_info": {
   "codemirror_mode": {
    "name": "ipython",
    "version": 3
   },
   "file_extension": ".py",
   "mimetype": "text/x-python",
   "name": "python",
   "nbconvert_exporter": "python",
   "pygments_lexer": "ipython3",
   "version": "3.11.0"
  }
 },
 "nbformat": 4,
 "nbformat_minor": 2
}
