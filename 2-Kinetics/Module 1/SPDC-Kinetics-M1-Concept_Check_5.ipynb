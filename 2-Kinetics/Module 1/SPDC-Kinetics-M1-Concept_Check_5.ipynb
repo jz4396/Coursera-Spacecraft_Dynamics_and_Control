{
 "cells": [
  {
   "cell_type": "markdown",
   "metadata": {},
   "source": [
    "# Coursera Spacecraft Dynamics and Control - Kinetics\n",
    "## Module 1\n"
   ]
  },
  {
   "cell_type": "code",
   "execution_count": 10,
   "metadata": {},
   "outputs": [],
   "source": [
    "import numpy as np\n",
    "import sys\n",
    "sys.path.append(\"../../\")\n",
    "\n",
    "import attitude_math as am"
   ]
  },
  {
   "cell_type": "markdown",
   "metadata": {},
   "source": [
    "## Concept Check 5 - Rigid Body Angular Momentum\n",
    "### Question 4\n",
    "A spacecraft has an orientation expressed through (3-2-1) Euler angles as $(-10, 10,5)$ degrees. A body angular velocity is $\\mathbf{^N\\omega}=(0.01,-0.01,0.01)$ rad/sec. The inertia tensor is expressed in body frame components as $\\mathbf{^B[I]}=\\begin{bmatrix} 10 & 1 & -1 \\\\\n",
    "1 & 5 & -1 \\\\\n",
    "1 & 1 & 8 \\end{bmatrix}$. What is the spacecraft angular momentum in body frame components?"
   ]
  },
  {
   "cell_type": "code",
   "execution_count": 11,
   "metadata": {},
   "outputs": [
    {
     "name": "stdout",
     "output_type": "stream",
     "text": [
      "[0.07715217653936335, -0.013041792460218806, 0.08345329154684628]\n"
     ]
    }
   ],
   "source": [
    "omega = np.array([0.01, -0.01, 0.01])\n",
    "R = am.eulerAd([3,2,1],[-10,10,5])\n",
    "I = np.array([[10, 1, -1],\n",
    "              [1, 5, 1],\n",
    "              [-1, 1, 8]])\n",
    "\n",
    "H = I@(R@omega)\n",
    "print(H.tolist())"
   ]
  },
  {
   "cell_type": "markdown",
   "metadata": {},
   "source": [
    "## Concept Check 6 - Parallel Axis Theorem\n",
    "### Question 1\n",
    "A spacecraft with mass 12.5kg has an orientation expressed through (3-2-1) Euler angles as $(-10, 10,5)$ degrees. The spacecraft inertia tensor about the center of mass location is expressed as\n",
    "\n",
    "$\\mathbf{^B[I_c]}=\\begin{bmatrix} 10 & 1 & -1 \\\\ 1 & 5 &\n",
    "1 \\\\ -1 & 1 & 8 \\end{bmatrix}$\n",
    "\n",
    "What is the inertia about point P  where $\\mathbf{^N R_{c/P}}=(-0.5,0.5,0.25)$ meters. Express your inertia tensor again in $\\mathbf{B}$-frame components.\n"
   ]
  },
  {
   "cell_type": "code",
   "execution_count": 14,
   "metadata": {},
   "outputs": [
    {
     "name": "stdout",
     "output_type": "stream",
     "text": [
      "[12.321252066866062, 4.197555618660198, -0.15813866771502283, 4.197555618660198, 9.860471566638285, 0.4284714194365996, -0.15813866771502283, 0.4284714194365996, 14.88077636649565]\n"
     ]
    }
   ],
   "source": [
    "rN_CP = np.array([-.5,.5,.25])\n",
    "rB_cp = R@rN_CP\n",
    "M = 12.5\n",
    "I_P = I + 12.5*am.tilde(rB_cp)@am.tilde(rB_cp).transpose()\n",
    "print(I_P.reshape(9).tolist())"
   ]
  },
  {
   "cell_type": "markdown",
   "metadata": {},
   "source": [
    "## Concept Check 6.1 - Coordinate Transformation\n",
    "### Question 1\n",
    "The spacecraft inertia tensor about the center of mass location is expressed as\n",
    "\n",
    "$\\mathbf{^B[I_c]}=\\begin{bmatrix} 10 & 1 & -1 \\\\ 1 & 5 & 1 \\\\ -1 & 1 & 8 \\end{bmatrix}$\n",
    "\n",
    "What is the inertia tensor expressed in terms of body docking frame D components where the D orientation relative to B is given through the MRPs $\\sigma_{D/B}=(0.1, 0.2, 0.3)$?\n"
   ]
  },
  {
   "cell_type": "code",
   "execution_count": 16,
   "metadata": {},
   "outputs": [
    {
     "name": "stdout",
     "output_type": "stream",
     "text": [
      "[5.427795052311948, -1.7734101199876724, 1.3798823058088003, -1.7734101199876726, 9.279522141007751, -0.5304735192806451, 1.3798823058088006, -0.530473519280645, 8.292682806680293]\n"
     ]
    }
   ],
   "source": [
    "mrp = [.1,.2,.3]\n",
    "R = am.MRP_2_DCM(mrp)\n",
    "I_d = R@I@R.transpose()\n",
    "print(I_d.reshape(9).tolist())"
   ]
  },
  {
   "cell_type": "markdown",
   "metadata": {},
   "source": [
    "### Question 2\n",
    "The spacecraft inertia tensor about the center of mass location is expressed as $\\mathbf{^B[I_c]}=\\begin{bmatrix} 10 & 1 & -1 \\\\ 1 & 5 & 1 \\\\ -1 & 1 & 8 \\end{bmatrix}$. What are the principal inertias? Provide the principal inertias ranked by size with the largest principal inertia first.\n",
    "\n",
    "### Question 4\n",
    "Which frame F orientation results in a principal coordinate frame?  Order the principal inertias by size with the largest principal inertia being along the first base vector \n",
    "$\\hat{𝑓}_1$, etc."
   ]
  },
  {
   "cell_type": "code",
   "execution_count": 46,
   "metadata": {},
   "outputs": [
    {
     "name": "stdout",
     "output_type": "stream",
     "text": [
      "Principal moments: [ 4.41312549 10.47419366  8.11268085]\n",
      "Eigen vectors:\n",
      "[[ 0.22199371 -0.93616416  0.27260861]\n",
      " [-0.92146211 -0.11001782  0.37256363]\n",
      " [ 0.31878891  0.33390528  0.88706307]]\n",
      "Principal moments: [10.47419366  8.11268085  4.41312549]\n",
      "Rotation Matrix:\n",
      "[0.9361641624967313, 0.11001782461409362, -0.33390528466015057, 0.27260860554517957, 0.37256362930852255, 0.8870630700796727, 0.22199371396394596, -0.9214621101182862, 0.31878891225519307]\n"
     ]
    },
    {
     "data": {
      "text/plain": [
       "0.9999999999999998"
      ]
     },
     "execution_count": 46,
     "metadata": {},
     "output_type": "execute_result"
    }
   ],
   "source": [
    "lamb,v = np.linalg.eig(I)\n",
    "print(f\"Principal moments: {lamb}\\nEigen vectors:\\n{v}\")\n",
    "i = np.argsort(lamb)[-1::-1]\n",
    "v[:,1]=-v[:,1]\n",
    "print(f\"Principal moments: {lamb[i]}\\nRotation Matrix:\\n{v[:,i].transpose().reshape(9).tolist()}\")\n",
    "np.linalg.det(v[:,i].transpose())"
   ]
  },
  {
   "cell_type": "markdown",
   "metadata": {},
   "source": [
    "## Concept Check 7 - Kinetic Energy\n",
    "\n",
    "### Question 1\n",
    "The spacecraft inertia tensor about the center of mass location is expressed as $\\mathbf{^B[I_c]}=\\begin{bmatrix} 10 & 1 & -1 \\\\ 1 & 5 & 1 \\\\ -1 & 1 & 8 \\end{bmatrix}$. The body angular velocity is given by $\\mathbf{^B\\omega}=(0.01,-0.01,0.01)$ rad/s. What is the rotational kinetic energy?"
   ]
  },
  {
   "cell_type": "code",
   "execution_count": 50,
   "metadata": {},
   "outputs": [
    {
     "name": "stdout",
     "output_type": "stream",
     "text": [
      "Rotational Kinetic Energy:\n",
      "0.0008500000000000001\n"
     ]
    }
   ],
   "source": [
    "omega = np.array([0.01, -.01, .01])\n",
    "RKE = 1/2*omega@I@omega\n",
    "print(f\"Rotational Kinetic Energy:\\n{RKE}\")"
   ]
  }
 ],
 "metadata": {
  "kernelspec": {
   "display_name": "Python 3",
   "language": "python",
   "name": "python3"
  },
  "language_info": {
   "codemirror_mode": {
    "name": "ipython",
    "version": 3
   },
   "file_extension": ".py",
   "mimetype": "text/x-python",
   "name": "python",
   "nbconvert_exporter": "python",
   "pygments_lexer": "ipython3",
   "version": "3.11.0"
  }
 },
 "nbformat": 4,
 "nbformat_minor": 2
}
