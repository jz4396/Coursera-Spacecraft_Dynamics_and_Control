{
 "cells": [
  {
   "cell_type": "markdown",
   "metadata": {},
   "source": [
    "# Coursera Spacecraft Dynamics and Control - Kinetics\n",
    "## Module 1\n"
   ]
  },
  {
   "cell_type": "code",
   "execution_count": 5,
   "metadata": {},
   "outputs": [],
   "source": [
    "import numpy as np"
   ]
  },
  {
   "cell_type": "markdown",
   "metadata": {},
   "source": [
    "## Concept Check 2 - Kinetic Energy\n",
    "\n",
    "### Question 2\n",
    "A cloud contains four particles with masses $m_1 = m_2 = 1$ kg and $m_3 = m_4 = 2$ kg. The position vector of each particle is $\\mathbf{R}_1 = (1, -1, 2)$ m, $\\mathbf{R}_2 = (-1, -3, 2)$ m, $\\mathbf{R}_3 = (2, -1, -1)$ m, $\\mathbf{R}_4 = (3, -1, -2)$ m and their respective velocity vectors are $\\dot{\\mathbf{R}_1} = (2, 1, 1)$ m/s, $\\dot{\\mathbf{R}_2} = (0, -1, 1)$ m/s, $\\dot{\\mathbf{R}_3} = (3, 2, -1)$ m/s, $\\dot{\\mathbf{R}_4} = (0, 0, 1)$ m/s.\n",
    "\n",
    "How much of the total cloud kinetic energy is translational kinetic energy and how much is rotation and deformation energy (measured in Joules)?"
   ]
  },
  {
   "cell_type": "code",
   "execution_count": 42,
   "metadata": {},
   "outputs": [
    {
     "name": "stdout",
     "output_type": "stream",
     "text": [
      "Center of Mass: [ 1.66666667 -1.33333333 -0.33333333] | Velocity of COM: [1.33333333 0.66666667 0.33333333]\n",
      "[[ 2  1  1]\n",
      " [ 0 -1  1]\n",
      " [ 3  2 -1]\n",
      " [ 0  0  1]] \n",
      " [[ 0.66666667  0.33333333  0.66666667]\n",
      " [-1.33333333 -1.66666667  0.66666667]\n",
      " [ 1.66666667  1.33333333 -1.33333333]\n",
      " [-1.33333333 -0.66666667  0.66666667]]\n",
      "Translational KE: 7.0 | Deformational KE: 12.0 | Total KE: 19.0\n"
     ]
    }
   ],
   "source": [
    "rs = np.array([[1,-1,2],\n",
    "      [-1,-3,2],\n",
    "      [2,-1,-1],\n",
    "      [3,-1,-2]])\n",
    "r_dots = np.array([[2,1,1],\n",
    "          [0,-1,1],\n",
    "          [3,2,-1],\n",
    "          [0,0,1]])\n",
    "ms = np.array([1, 1, 2, 2])\n",
    "M = np.sum(ms)\n",
    "\n",
    "rc = ms@rs/M\n",
    "rc_dot = ms@r_dots/np.sum(ms)\n",
    "print(f\"Center of Mass: {rc} | Velocity of COM: {rc_dot}\")\n",
    "\n",
    "T_trans = 1/2*M*np.inner(rc_dot,rc_dot)\n",
    "R_dots = r_dots-rc_dot\n",
    "print(r_dots,\"\\n\",R_dots)\n",
    "T_deform = 1/2*np.trace(ms*(R_dots@R_dots.transpose()))\n",
    "T_tot = 1/2*np.trace(ms*(r_dots@r_dots.transpose()))\n",
    "print(f\"Translational KE: {T_trans} | Deformational KE: {T_deform} | Total KE: {T_tot}\")"
   ]
  },
  {
   "cell_type": "markdown",
   "metadata": {},
   "source": [
    "A cloud contains four particles with masses $m_1 = m_2 = 1$ kg and $m_3 = m_4 = 2$ kg. The respective velocity vectors are:\n",
    "\n",
    "$\\mathbf{R}_1 = \\begin{pmatrix} 2 \\\\ 1 \\\\ 1 \\end{pmatrix}$ m/s\n",
    "\n",
    "$\\mathbf{R}_2 = \\begin{pmatrix} 0 \\\\ -1 \\\\ 1 \\end{pmatrix}$ m/s\n",
    "\n",
    "$\\mathbf{R}_3 = \\begin{pmatrix} 3 \\\\ 2 \\\\ -1 \\end{pmatrix}$ m/s\n",
    "\n",
    "$\\mathbf{R}_4 = \\begin{pmatrix} 0 \\\\ 0 \\\\ 1 \\end{pmatrix}$ m/s\n",
    "\n",
    "What is the linear momentum of this system?"
   ]
  },
  {
   "cell_type": "code",
   "execution_count": 55,
   "metadata": {},
   "outputs": [],
   "source": [
    "R_dots = np.array([[2, 1, 1],\n",
    "          [0, -1, 1],\n",
    "          [3, 2, -1],\n",
    "          [0, 0, 1],])\n",
    "m = np.array([1, 1, 2, 2])\n",
    "m@R_dots"
   ]
  },
  {
   "cell_type": "markdown",
   "metadata": {},
   "source": [
    "## Concept Check 4 - Angular Momentum\n",
    "\n",
    "## Problem 1\n",
    "A cloud contains four particles with masses \n",
    "Given that $m_1 = m_2 = 1$ and $m_3 = m_4 = 2$, the position vector of each particle is:\n",
    "\n",
    "$R_1 = \\begin{pmatrix} 1 \\\\ -1 \\\\ 2 \\end{pmatrix}$,\n",
    "$R_2 = \\begin{pmatrix} -1 \\\\ -3 \\\\ 2 \\end{pmatrix}$,\n",
    "$R_3 = \\begin{pmatrix} 2 \\\\ -1 \\\\ -1 \\end{pmatrix}$,\n",
    "$R_4 = \\begin{pmatrix} 3 \\\\ -1 \\\\ -2 \\end{pmatrix}$.\n",
    "\n",
    "Their respective velocity vectors are:\n",
    "\n",
    "$R_1' = \\begin{pmatrix} 2 \\\\ 1 \\\\ 1 \\end{pmatrix}$,\n",
    "$R_2' = \\begin{pmatrix} 0 \\\\ -1 \\\\ 1 \\end{pmatrix}$,\n",
    "$R_3' = \\begin{pmatrix} 3 \\\\ 2 \\\\ -1 \\end{pmatrix}$,\n",
    "$R_4' = \\begin{pmatrix} 0 \\\\ 0 \\\\ 1 \\end{pmatrix}$.\n",
    "\n",
    "What is the cloud angular momentum vector about the origin and about the center of mass?"
   ]
  },
  {
   "cell_type": "code",
   "execution_count": 75,
   "metadata": {},
   "outputs": [
    {
     "name": "stdout",
     "output_type": "stream",
     "text": [
      "COM: [ 1.66666667 -1.33333333 -0.33333333] COM Velocity: [1.33333333 0.66666667 0.33333333]\n",
      "H0:[ 0 -4 18]\n",
      "HC:[1.33333333 2.         0.66666667]\n"
     ]
    }
   ],
   "source": [
    "import numpy as np\n",
    "\n",
    "R1 = np.array([1, -1, 2])\n",
    "R2 = np.array([-1, -3, 2])\n",
    "R3 = np.array([2, -1, -1])\n",
    "R4 = np.array([3, -1, -2])\n",
    "\n",
    "R1_prime = np.array([2, 1, 1])\n",
    "R2_prime = np.array([0, -1, 1])\n",
    "R3_prime = np.array([3, 2, -1])\n",
    "R4_prime = np.array([0, 0, 1])\n",
    "\n",
    "Rs = np.array([R1, R2, R3, R4])\n",
    "R_primes = np.array([R1_prime, R2_prime, R3_prime, R4_prime])\n",
    "\n",
    "Rc = ms@rs/M\n",
    "Rc_dot = ms@r_dots/np.sum(m)\n",
    "print(f\"COM: {Rc} COM Velocity: {Rc_dot}\")\n",
    "\n",
    "m=[1, 1, 2, 2]\n",
    "H0 = m@np.cross(Rs,R_primes)\n",
    "HC = m@np.cross(Rs-Rc,R_primes-Rc_dot)\n",
    "print(F\"H0:{H0}\\nHC:{HC}\")\n"
   ]
  },
  {
   "cell_type": "code",
   "execution_count": 71,
   "metadata": {},
   "outputs": [
    {
     "data": {
      "text/plain": [
       "array([[-3,  3,  3],\n",
       "       [-1,  1,  1],\n",
       "       [ 3, -1,  7],\n",
       "       [-1, -3,  0]])"
      ]
     },
     "execution_count": 71,
     "metadata": {},
     "output_type": "execute_result"
    }
   ],
   "source": [
    "np.cross(Rs,R_primes)\n",
    "#np.cross([1,-1,2],[2,1,1])"
   ]
  }
 ],
 "metadata": {
  "kernelspec": {
   "display_name": "Python 3",
   "language": "python",
   "name": "python3"
  },
  "language_info": {
   "codemirror_mode": {
    "name": "ipython",
    "version": 3
   },
   "file_extension": ".py",
   "mimetype": "text/x-python",
   "name": "python",
   "nbconvert_exporter": "python",
   "pygments_lexer": "ipython3",
   "version": "3.11.0"
  }
 },
 "nbformat": 4,
 "nbformat_minor": 2
}
