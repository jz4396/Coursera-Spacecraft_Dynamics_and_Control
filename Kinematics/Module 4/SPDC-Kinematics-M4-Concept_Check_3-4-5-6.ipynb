{
 "cells": [
  {
   "cell_type": "markdown",
   "metadata": {},
   "source": [
    "# Coursera Spacecraft Dynamics and Control - Kinematics\n",
    "## Module 4\n",
    "## Concept Check 3, 4, 5, 6 - Devenport's q-Method, Quest, and OLAE"
   ]
  },
  {
   "cell_type": "code",
   "execution_count": 8,
   "metadata": {},
   "outputs": [],
   "source": [
    "import numpy as np\n",
    "import sys\n",
    "\n",
    "sys.path.append('../')\n",
    "\n",
    "import attitude_math as am"
   ]
  },
  {
   "cell_type": "markdown",
   "metadata": {},
   "source": [
    "## Question 6\n",
    "\n",
    "A spacecraft has two attitude sensors, sensing two unit vectors (directions), $\\mathbf{v}^1$ and $\\mathbf{v}^2$ with $i=1,2$. Assume the sensors have about the same accuracy. At an instant in time, the two vectors measured by the sensors have the body frame components: \n",
    "\n",
    "$\\mathbf{B}\\,\\mathbf{v}^1 = \\begin{pmatrix} 0.8273 \\\\ 0.5541 \\\\ -0.0920 \\end{pmatrix}$\n",
    "\n",
    "$\\mathbf{B}\\,\\mathbf{v}^2 = \\begin{pmatrix} -0.8285 \\\\ 0.5522 \\\\ -0.0955 \\end{pmatrix}$\n",
    "\n",
    "At the same time, the four vectors are determined to have inertial frame components:\n",
    "\n",
    "$\\mathbf{N}\\,\\mathbf{v}^1 = \\begin{pmatrix} -0.1517 \\\\ -0.9669 \\\\ 0.2050 \\end{pmatrix}$\n",
    "\n",
    "$\\mathbf{N}\\,\\mathbf{v}^2 = \\begin{pmatrix} -0.8393 \\\\ 0.4494 \\\\ -0.3044 \\end{pmatrix}$\n",
    "\n",
    "Use Devenport's q-Method to determine the estimated attitude $[\\mathbf{\\bar{B}N}]$. Be sure to normalize all the provided unit vectors. Enter a response with at least 4 significant digits."
   ]
  },
  {
   "cell_type": "code",
   "execution_count": 9,
   "metadata": {},
   "outputs": [
    {
     "name": "stdout",
     "output_type": "stream",
     "text": [
      "[[ 0.41555875 -0.85509088  0.31004921]\n",
      " [-0.83393237 -0.49427603 -0.24545471]\n",
      " [ 0.36313597 -0.15655922 -0.91848869]]\n",
      "[[ 0.41593629 -0.85489358  0.31008704]\n",
      " [-0.83375671 -0.49463669 -0.24532486]\n",
      " [ 0.36310707 -0.15649764 -0.91851061]]\n"
     ]
    }
   ],
   "source": [
    "v1 = [.8273, .5541, -.0920]\n",
    "v2 = [-.8285, .5522, -.0955]\n",
    "n1 = [-.1517, -.9669, .2050]\n",
    "n2 = [-.8393, .4494, -.3044]\n",
    "vs = np.vstack((v1,v2))\n",
    "ns = np.vstack((n1,n2))\n",
    "\n",
    "print(am.triad_method_estimator(v1, v2, n1, n2))\n",
    "q = am.q_method_estimator(vs, ns, [1,1])\n",
    "#print(np.linalg.norm(q))\n",
    "print(am.quat_2_dcm(q))"
   ]
  },
  {
   "cell_type": "code",
   "execution_count": 10,
   "metadata": {},
   "outputs": [
    {
     "name": "stdout",
     "output_type": "stream",
     "text": [
      "0.9999991558839341\n",
      "[[ 0.99970013 -0.02019574 -0.01382426]\n",
      " [ 0.0199059   0.99958589 -0.02076977]\n",
      " [ 0.01423821  0.02048801  0.99968841]]\n",
      "1.8349476067252135\n",
      "1.8349868166166081\n"
     ]
    }
   ],
   "source": [
    "b_bar_n = np.array([[0.969846,-0.200706,-0.138258],[0.17101, 0.96461, -0.200706],[0.173648, 0.17101, 0.969846]]).transpose()\n",
    "b_bar_n\n",
    "bn = np.array([[0.963592, -0.223042, -0.147454],[0.187303, 0.956645, -0.223042],[0.190809, 0.187303, 0.963592]]).transpose()\n",
    "r=b_bar_n@bn.transpose()\n",
    "print(np.linalg.det(r))\n",
    "print(r)\n",
    "q = am.dcm_2_quat(r)\n",
    "print(np.rad2deg(np.arccos(q[0]))*2)\n",
    "print(np.rad2deg(np.linalg.norm(am.DCM_2_MRP(r)))*4)"
   ]
  },
  {
   "cell_type": "markdown",
   "metadata": {},
   "source": [
    "### Question 5 Check 5\n",
    "Use the QUEST Algorithm  to determine the estimated attitude \n",
    "[𝐵𝑁].  Be sure to normalize all the provided unit vectors. Enter a response with at least 5 significant digits."
   ]
  },
  {
   "cell_type": "code",
   "execution_count": 11,
   "metadata": {},
   "outputs": [
    {
     "name": "stdout",
     "output_type": "stream",
     "text": [
      "[[-31.84928645]\n",
      " [ 19.01050463]\n",
      " [ -7.5786916 ]]\n",
      "[0.4159362912691978, -0.8548935784337749, 0.3100870380359689, -0.8337567120720426, -0.4946366939326556, -0.24532485828017808, 0.3631070732993814, -0.156497637579829, -0.9185106111264529]\n"
     ]
    }
   ],
   "source": [
    "CRP = am.quest_method_estimator(vs, ns, [1,1], 2)\n",
    "print(CRP)\n",
    "dcm = am.CRP_2_DCM(CRP)\n",
    "print(am.CRP_2_DCM(CRP).reshape(9).tolist())"
   ]
  },
  {
   "cell_type": "markdown",
   "metadata": {},
   "source": [
    "Testing of my quest method on example"
   ]
  },
  {
   "cell_type": "code",
   "execution_count": 12,
   "metadata": {},
   "outputs": [
    {
     "name": "stdout",
     "output_type": "stream",
     "text": [
      "[[-0.12362744]\n",
      " [ 0.149115  ]\n",
      " [ 0.27392261]]\n",
      "[[ 0.82514287  0.45928237 -0.32893608]\n",
      " [-0.52556132  0.83763943 -0.14881358]\n",
      " [ 0.20718237  0.29566855  0.93255326]]\n"
     ]
    }
   ],
   "source": [
    "v2s = [[0.8190, -.5282,.2242],[-.3138,-.1584,.9362]]\n",
    "n2s = [[1, 0, 0],[0,0,1]]\n",
    "crp = am.quest_method_estimator(v2s, n2s, [1,1], 5)\n",
    "print(crp)\n",
    "print(np.array(am.CRP_2_DCM(crp)))\n"
   ]
  },
  {
   "cell_type": "markdown",
   "metadata": {},
   "source": [
    "### Question 2 Check 6\n",
    "Use the OLAE Algorithm to determine the estimated attitude $\\mathbf{\\bar{B}N}$. Be sure to normalize all the provided unit vectors. Enter a response with at least 5 significant digits.\n"
   ]
  },
  {
   "cell_type": "code",
   "execution_count": 16,
   "metadata": {},
   "outputs": [
    {
     "name": "stdout",
     "output_type": "stream",
     "text": [
      "[-31.82302241  18.98792163  -7.57095733]\n",
      "[[ 0.41621866 -0.85476227  0.31007013]\n",
      " [-0.83360793 -0.49490091 -0.2452976 ]\n",
      " [ 0.36312512 -0.15637948 -0.9185236 ]]\n",
      "[0.4162186558929023, -0.8547622734575249, 0.31007013135809935, -0.8336079265803267, -0.4949009125334435, -0.24529759786025912, 0.3631251233791928, -0.15637948282076006, -0.9185235991108545]\n"
     ]
    }
   ],
   "source": [
    "q = am.OLAE_estimator(vs, ns, [1,1])\n",
    "print(q)\n",
    "d = am.CRP_2_DCM(q)\n",
    "print(d)\n",
    "print(d.flatten().tolist())"
   ]
  }
 ],
 "metadata": {
  "kernelspec": {
   "display_name": "Python 3",
   "language": "python",
   "name": "python3"
  },
  "language_info": {
   "codemirror_mode": {
    "name": "ipython",
    "version": 3
   },
   "file_extension": ".py",
   "mimetype": "text/x-python",
   "name": "python",
   "nbconvert_exporter": "python",
   "pygments_lexer": "ipython3",
   "version": "3.11.0"
  }
 },
 "nbformat": 4,
 "nbformat_minor": 2
}
