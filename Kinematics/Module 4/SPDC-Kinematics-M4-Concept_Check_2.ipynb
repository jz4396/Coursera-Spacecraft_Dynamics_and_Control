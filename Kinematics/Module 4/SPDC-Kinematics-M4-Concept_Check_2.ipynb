{
 "cells": [
  {
   "cell_type": "markdown",
   "metadata": {},
   "source": [
    "# Coursera Spacecraft Dynamics and Control - Kinematics\n",
    "## Module 4\n",
    "## Concept Check 2 - TRIAD Method"
   ]
  },
  {
   "cell_type": "code",
   "execution_count": 8,
   "metadata": {},
   "outputs": [],
   "source": [
    "import numpy as np\n",
    "import sys\n",
    "\n",
    "sys.path.append('../')\n",
    "\n",
    "import attitude_math as am"
   ]
  },
  {
   "cell_type": "markdown",
   "metadata": {},
   "source": [
    "### Question 1\n",
    "\n",
    "A spacecraft has two attitude sensors, sensing two unit vectors (directions), $\\hat{v}_1$ and $\\hat{v}_2$ with $i=1,2$. We know the first sensor ($i=1$) is more accurate than the second sensor. At an instant in time, the two vectors measured by the sensors have the body frame components: \n",
    "\n",
    "$^\\mathbf{B}\\hat{v}_1 = \\begin{pmatrix} 0.8273 \\ 0.5541 \\ -0.0920 \\end{pmatrix}$ and $^\\mathbf{B}\\hat{v}_2 = \\begin{pmatrix} -0.8285 \\ 0.5522 \\ -0.0955 \\end{pmatrix}$.\n",
    "\n",
    "At the same time, the four vectors are determined to have inertial frame components:\n",
    "\n",
    "$^\\mathbf{N}\\hat{v}_1 = \\begin{pmatrix} -0.1517 \\ -0.9669 \\ 0.2050 \\end{pmatrix}$ and $^\\mathbf{N}\\hat{v}_2 = \\begin{pmatrix} -0.8393 \\ 0.4494 \\ -0.3044 \\end{pmatrix}$.\n",
    "\n",
    "Use the Triad Method to determine the estimated attitude $[\\bar{\\mathbf{B}}N]$. Be sure to normalize all the provided unit vectors. Enter a response with at least 5 significant digits."
   ]
  },
  {
   "cell_type": "code",
   "execution_count": 9,
   "metadata": {},
   "outputs": [
    {
     "data": {
      "text/plain": [
       "[0.4155587495161771,\n",
       " -0.8550908811348732,\n",
       " 0.31004920690196414,\n",
       " -0.833932366309469,\n",
       " -0.49427603231729206,\n",
       " -0.24545470518644497,\n",
       " 0.3631359719472038,\n",
       " -0.15655921843398826,\n",
       " -0.9184886918200454]"
      ]
     },
     "execution_count": 9,
     "metadata": {},
     "output_type": "execute_result"
    }
   ],
   "source": [
    "v1 = [.8273, .5541, -.0920]\n",
    "v2 = [-.8285, .5522, -.0955]\n",
    "n1 = [-.1517, -.9669, .2050]\n",
    "n2 = [-.8393, .4494, -.3044]\n",
    "\n",
    "am.triad_method(v1, v2, n1, n2).reshape(9).tolist()"
   ]
  },
  {
   "cell_type": "markdown",
   "metadata": {},
   "source": [
    "### Question 2\n",
    "\n",
    "Assume the estimated attitude is given by\n",
    "\n",
    "$\\bar{\\mathbf{B}N} = \\begin{bmatrix} 0.969846 & 0.17101 & 0.173648 \\\\ -0.200706 & 0.96461 & 0.17101 \\\\ -0.138258 & -0.200706 & 0.969846 \\end{bmatrix}$\n",
    "\n",
    "and the true attitude is given by\n",
    "\n",
    "$\\mathbf{BN} = \\begin{bmatrix} 0.963592 & 0.187303 & 0.190809 \\\\ -0.223042 & 0.956645 & 0.187303 \\\\ -0.147454 & -0.223042 & 0.963592 \\end{bmatrix} $\n",
    "\n",
    "Express the estimation error in terms of a principal rotation angle in units of degrees."
   ]
  },
  {
   "cell_type": "code",
   "execution_count": 33,
   "metadata": {},
   "outputs": [
    {
     "name": "stdout",
     "output_type": "stream",
     "text": [
      "0.9999991558839341\n",
      "[[ 0.99970013 -0.02019574 -0.01382426]\n",
      " [ 0.0199059   0.99958589 -0.02076977]\n",
      " [ 0.01423821  0.02048801  0.99968841]]\n",
      "1.8349476067252135\n",
      "1.8349868166166081\n"
     ]
    }
   ],
   "source": [
    "b_bar_n = np.array([[0.969846,-0.200706,-0.138258],[0.17101, 0.96461, -0.200706],[0.173648, 0.17101, 0.969846]]).transpose()\n",
    "b_bar_n\n",
    "bn = np.array([[0.963592, -0.223042, -0.147454],[0.187303, 0.956645, -0.223042],[0.190809, 0.187303, 0.963592]]).transpose()\n",
    "r=b_bar_n@bn.transpose()\n",
    "print(np.linalg.det(r))\n",
    "print(r)\n",
    "q = am.dcm_2_quat(r)\n",
    "print(np.rad2deg(np.arccos(q[0]))*2)\n",
    "print(np.rad2deg(np.linalg.norm(am.DCM_2_MRP(r)))*4)"
   ]
  }
 ],
 "metadata": {
  "kernelspec": {
   "display_name": "Python 3",
   "language": "python",
   "name": "python3"
  },
  "language_info": {
   "codemirror_mode": {
    "name": "ipython",
    "version": 3
   },
   "file_extension": ".py",
   "mimetype": "text/x-python",
   "name": "python",
   "nbconvert_exporter": "python",
   "pygments_lexer": "ipython3",
   "version": "3.11.0"
  }
 },
 "nbformat": 4,
 "nbformat_minor": 2
}
