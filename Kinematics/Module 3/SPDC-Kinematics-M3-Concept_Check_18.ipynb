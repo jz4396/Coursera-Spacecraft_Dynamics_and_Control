{
 "cells": [
  {
   "cell_type": "markdown",
   "metadata": {},
   "source": [
    "# Coursera Spacecraft Dynamics and Control - Kinematics\n",
    "## Module 3\n",
    "## Concept Check 18 - MRP to DCM Relation"
   ]
  },
  {
   "cell_type": "code",
   "execution_count": 1,
   "metadata": {},
   "outputs": [],
   "source": [
    "import numpy as np\n",
    "import sys\n",
    "\n",
    "sys.path.append('../')\n",
    "\n",
    "import attitude_math as am"
   ]
  },
  {
   "cell_type": "markdown",
   "metadata": {},
   "source": [
    "### Question 1\n",
    "Map σ=(0.1,0.2,0.3) to the corresponding DCM"
   ]
  },
  {
   "cell_type": "code",
   "execution_count": 2,
   "metadata": {},
   "outputs": [
    {
     "name": "stdout",
     "output_type": "stream",
     "text": [
      "[[ 0.19975377  0.91720529 -0.34472145]\n",
      " [-0.67097568  0.38442598  0.63404124]\n",
      " [ 0.71406587  0.10464758  0.69221299]]\n",
      "[0.19975377039088948, 0.9172052939365958, -0.3447214527546937, -0.6709756848261001, 0.3844259772237611, 0.634041243459526, 0.714065866420437, 0.1046475838719606, 0.6922129886118804]\n"
     ]
    }
   ],
   "source": [
    "dcm = am.MRP_2_DCM([0.1, 0.2, 0.3])\n",
    "print(dcm)\n",
    "print(dcm.reshape(9).tolist())"
   ]
  },
  {
   "cell_type": "markdown",
   "metadata": {},
   "source": [
    "### Question 2\n",
    "Map the DCM\n",
    "\n",
    "\\begin{bmatrix}\n",
    "0.763314 & 0.0946746 & -0.639053 \\\\\n",
    "-0.568047 & -0.372781 & -0.733728 \\\\\n",
    "-0.307692 & 0.923077 & -0.230769 \\\\\n",
    "\\end{bmatrix}\n",
    "\n",
    "to the equivalent short MRP set.\n"
   ]
  },
  {
   "cell_type": "code",
   "execution_count": 3,
   "metadata": {},
   "outputs": [
    {
     "name": "stdout",
     "output_type": "stream",
     "text": [
      "[-0.49999996  0.0999997   0.19999992]\n"
     ]
    }
   ],
   "source": [
    "dcm = np.array([[0.763314, 0.0946746, -0.639053],\n",
    "                [-0.568047, -0.372781, -0.733728],\n",
    "                [-0.307692, 0.923077, -0.230769]])\n",
    "mrp = am.DCM_2_MRP(dcm)\n",
    "print(mrp)"
   ]
  }
 ],
 "metadata": {
  "kernelspec": {
   "display_name": "Python 3",
   "language": "python",
   "name": "python3"
  },
  "language_info": {
   "codemirror_mode": {
    "name": "ipython",
    "version": 3
   },
   "file_extension": ".py",
   "mimetype": "text/x-python",
   "name": "python",
   "nbconvert_exporter": "python",
   "pygments_lexer": "ipython3",
   "version": "3.11.0"
  }
 },
 "nbformat": 4,
 "nbformat_minor": 2
}
