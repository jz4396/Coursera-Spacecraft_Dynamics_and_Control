{
 "cells": [
  {
   "cell_type": "markdown",
   "metadata": {},
   "source": [
    "# Coursera Spacecraft Dynamics and Control - Kinematics\n",
    "## Module 3\n",
    "## Concept Check 11, 12 - CRP Addition"
   ]
  },
  {
   "cell_type": "code",
   "execution_count": 9,
   "metadata": {},
   "outputs": [],
   "source": [
    "import numpy as np\n",
    "import sys\n",
    "sys.path.append('../')\n",
    "\n",
    "import attitude_math as am"
   ]
  },
  {
   "cell_type": "markdown",
   "metadata": {},
   "source": [
    "### Problem 1\n",
    "Given the CRP attitude description $\\mathbf{q}_{B/N} = (0.1, 0.2, 0.3)$, what is the equivalent DCM value?"
   ]
  },
  {
   "cell_type": "code",
   "execution_count": 10,
   "metadata": {},
   "outputs": [
    {
     "data": {
      "text/plain": [
       "[0.7719298245614035,\n",
       " array([0.56140351]),\n",
       " array([-0.29824561]),\n",
       " array([-0.49122807]),\n",
       " 0.8245614035087718,\n",
       " array([0.28070175]),\n",
       " array([0.40350877]),\n",
       " array([-0.07017544]),\n",
       " 0.9122807017543859]"
      ]
     },
     "execution_count": 10,
     "metadata": {},
     "output_type": "execute_result"
    }
   ],
   "source": [
    "dcm = am.CRP_2_DCM([0.1, 0.2, 0.3])\n",
    "dcm.reshape(9).tolist()"
   ]
  },
  {
   "cell_type": "markdown",
   "metadata": {},
   "source": [
    "### Problem 2\n",
    "Given the DCM \n",
    "\n",
    "$[BN] = \n",
    "\\begin{bmatrix}\n",
    "0.333333 & -0.666667 & 0.666667 \\\\\n",
    "0.871795 & 0.487179 & 0.0512821 \\\\\n",
    "-0.358974 & 0.564103 & 0.74359 \\\\\n",
    "\\end{bmatrix}$, what is the equivalent CRP set?\n"
   ]
  },
  {
   "cell_type": "code",
   "execution_count": 11,
   "metadata": {},
   "outputs": [
    {
     "data": {
      "text/plain": [
       "[[-0.1999928238892705], [-0.399995885489166], [-0.6000018719923811]]"
      ]
     },
     "execution_count": 11,
     "metadata": {},
     "output_type": "execute_result"
    }
   ],
   "source": [
    "dcm = np.array([[0.333333, -0.666667, 0.666667],\n",
    "                [0.871795, 0.487179, 0.0512821],\n",
    "                [-0.358974, 0.564103, 0.743597]])\n",
    "am.quat_2_CRP(am.dcm_2_quat(dcm)).tolist()"
   ]
  },
  {
   "cell_type": "markdown",
   "metadata": {},
   "source": [
    "### Question 4\n",
    "\n",
    "Let $\\mathbf{q}_{F/N} = (0.1, 0.2, 0.3)$ and $\\mathbf{q}_{B/N} = (-0.3, 0.3, 0.1)$. What is the attitude of $\\mathbf{B}$ relative to $\\mathbf{F}$ in terms of CRPs?"
   ]
  },
  {
   "cell_type": "code",
   "execution_count": 12,
   "metadata": {},
   "outputs": [
    {
     "data": {
      "text/plain": [
       "array([-0.31132075,  0.18867925, -0.27358491])"
      ]
     },
     "execution_count": 12,
     "metadata": {},
     "output_type": "execute_result"
    }
   ],
   "source": [
    "am.CRP_add([-0.1, -0.2, -0.3],[-0.3, 0.3, 0.1])"
   ]
  }
 ],
 "metadata": {
  "kernelspec": {
   "display_name": "Python 3",
   "language": "python",
   "name": "python3"
  },
  "language_info": {
   "codemirror_mode": {
    "name": "ipython",
    "version": 3
   },
   "file_extension": ".py",
   "mimetype": "text/x-python",
   "name": "python",
   "nbconvert_exporter": "python",
   "pygments_lexer": "ipython3",
   "version": "3.11.0"
  }
 },
 "nbformat": 4,
 "nbformat_minor": 2
}
